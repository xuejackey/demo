{
 "cells": [
  {
   "cell_type": "code",
   "execution_count": null,
   "metadata": {},
   "outputs": [],
   "source": [
    "!pip install --upgrade pip\n",
    "!pip install segtok\n",
    "!pip install tiny-tokenizer\n",
    "!pip install flair\n",
    "!pip install pytorch_pretrained_bert"
   ]
  },
  {
   "cell_type": "code",
   "execution_count": null,
   "metadata": {},
   "outputs": [],
   "source": [
    "from flair.data import Sentence\n",
    "from flair.models.sequence_tagger_model import SequenceTagger"
   ]
  },
  {
   "cell_type": "code",
   "execution_count": null,
   "metadata": {},
   "outputs": [],
   "source": [
    "import flair\n",
    "import torch\n",
    "import os\n",
    "import sys"
   ]
  },
  {
   "cell_type": "code",
   "execution_count": null,
   "metadata": {},
   "outputs": [],
   "source": [
    "flair.device = torch.device('cpu')\n",
    "# \n",
    "tagger: SequenceTagger = SequenceTagger.load(\"ner\")\n",
    "print (\"load protocol model\")\n",
    "\n",
    "#to be removed\n",
    "sys.argv[1] = './inputtxt/'\n",
    "sys.argv[2] = './output/'\n",
    "outfolder = sys.argv[2]\n",
    "for file in os.listdir(sys.argv[1]):\n",
    "    if not file.endswith(\".txt\"):\n",
    "        continue\n",
    "    #print (file)\n",
    "    all_entities = []\n",
    "    offset = 0\n",
    "    #print (sys.argv[1]+file) \n",
    "    for line in open(sys.argv[1]+file).readlines(): \n",
    "        print (\"--------\")\n",
    "        print (line.strip())\n",
    "        sentence: Sentence = Sentence(line.strip())\n",
    "        print(dir(sentence))\n",
    "        print(tagger.predict(sentence))        \n",
    "        print (sentence.to_tagged_string())\n",
    "        print(sentence.get_token(0))\n",
    "        print(sentence.convert_tag_scheme())\n",
    "        print(sentence.__dict__)\n",
    "        print(dir(sentence))\n",
    "        entities = sentence.to_offset_tags(offset)\n",
    "        print (entities)\n",
    "        new_entities = []\n",
    "        for ent in entities:\n",
    "            #if ent[3] not in [\"this study\", \"that study\", \"the disease\", \"the finding\", \"the study\", \"the analysis\", \"treatment\", \"test\", \"testing\", \"treatment\", \"symptoms\", \"Lilly\"]:\n",
    "            new_entities.append(ent)\n",
    "        offset += len(line)\n",
    "        #print(sentence.to_tagged_string())\n",
    "        all_entities += new_entities\n",
    "        #print (entities)\n",
    "    \n",
    "    filew = open(outfolder + file.replace(\".txt\", \".ann\"), \"w\")\n",
    "    filew2 = open(outfolder + file, \"w\")\n",
    "    txt = open(sys.argv[1]+file).read()\n",
    "    filew2.write(txt)\n",
    "    filew2.close\n",
    "    index = 1\n",
    "    for entity in all_entities: \n",
    "        fixed = False\n",
    "        if txt[int(entity[1]):int(entity[2])] != entity[3]:\n",
    "            for offset in [-5, -4, -3, -2, -1, 1, 2, 3,4,5]:\n",
    "                if (offset < 0 and int(entity[1]) >= abs(offset) and txt[int(entity[1])-offset:int(entity[2])-offset] == entity[3]) or (offset > 0 and int(entity[2]) <= len(txt)-offset and txt[int(entity[1])+offset:int(entity[2])+offset] == entity[3]):\n",
    "                    fixed = True\n",
    "                    entity[1] = str(int(entity[1]) + offset)\n",
    "                    entity[2] = str(int(entity[2]) + offset)\n",
    "                    \n",
    "            #if not fixed:\n",
    "            #    print (\"does not match found:\")\n",
    "            #    print (entity)\n",
    "            #    print (txt[int(entity[1]):int(entity[2])] )\n",
    "        else:\n",
    "            fixed = True\n",
    "        if fixed:\n",
    "            filew.write(\"T\"+str(index)+\"\\t\"+entity[0]+\" \"+entity[1]+\" \"+entity[2]+\"\\t\"+entity[3]+\"\\n\")\n",
    "        index += 1\n",
    "    filew.close()"
   ]
  },
  {
   "cell_type": "code",
   "execution_count": null,
   "metadata": {},
   "outputs": [],
   "source": []
  },
  {
   "cell_type": "code",
   "execution_count": null,
   "metadata": {},
   "outputs": [],
   "source": []
  },
  {
   "cell_type": "code",
   "execution_count": null,
   "metadata": {},
   "outputs": [],
   "source": []
  }
 ],
 "metadata": {
  "kernelspec": {
   "display_name": "conda_pytorch_p36",
   "language": "python",
   "name": "conda_pytorch_p36"
  },
  "language_info": {
   "codemirror_mode": {
    "name": "ipython",
    "version": 3
   },
   "file_extension": ".py",
   "mimetype": "text/x-python",
   "name": "python",
   "nbconvert_exporter": "python",
   "pygments_lexer": "ipython3",
   "version": "3.6.5"
  }
 },
 "nbformat": 4,
 "nbformat_minor": 4
}
